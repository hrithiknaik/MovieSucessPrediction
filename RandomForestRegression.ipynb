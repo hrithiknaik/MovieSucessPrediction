{
 "cells": [
  {
   "cell_type": "code",
   "execution_count": 1,
   "metadata": {},
   "outputs": [],
   "source": [
    "import pandas as pd\n",
    "import numpy as np\n",
    "df=pd.read_csv('movie_metadata.csv')\n",
    "del df['director_facebook_likes']\n",
    "del df['num_critic_for_reviews']\n",
    "del df['actor_1_facebook_likes']\n",
    "del df['actor_2_facebook_likes']\n",
    "del df['actor_3_facebook_likes']\n",
    "del df['num_user_for_reviews']\n",
    "del df['num_voted_users']\n",
    "del df['movie_facebook_likes']\n",
    "del df['movie_imdb_link']\n",
    "del df['cast_total_facebook_likes']\n",
    "del df['plot_keywords']\n",
    "clean_data= df[df['director_name'].notnull() & df['facenumber_in_poster'].notnull()& df['color'].notnull() & df['duration'].notnull() & df['actor_2_name'].notnull() & df['genres'].notnull()\n",
    "               & df['actor_1_name'].notnull() & df['actor_3_name'].notnull() & df['country'].notnull()\n",
    "               & df['title_year'].notnull() & df['budget'].notnull() & df['gross'].notnull() & df['aspect_ratio'].notnull() & df['language'].notnull() & df['content_rating'].notnull()]\n",
    "df=clean_data"
   ]
  },
  {
   "cell_type": "code",
   "execution_count": 2,
   "metadata": {},
   "outputs": [],
   "source": [
    "usa=df['country']=='USA'\n",
    "df=df[usa]"
   ]
  },
  {
   "cell_type": "code",
   "execution_count": 3,
   "metadata": {},
   "outputs": [],
   "source": [
    "df = df.dropna(how='any',axis=0)"
   ]
  },
  {
   "cell_type": "code",
   "execution_count": 4,
   "metadata": {},
   "outputs": [],
   "source": [
    "import math\n",
    "\n",
    "for index,row in df.iterrows():\n",
    "    director=row['director_name']\n",
    "    time=row['title_year']\n",
    "    a=df['director_name']==director\n",
    "    b=df['title_year']<time\n",
    "    \n",
    "    c=df[a & b]['gross'].aggregate(np.mean)\n",
    "    d=df[a & b]['imdb_score'].aggregate(np.mean)\n",
    "    e=df[a & b].shape[0]\n",
    "    if math.isnan(c):\n",
    "        c=0\n",
    "    if math.isnan(d):\n",
    "        d=0\n",
    "    if math.isnan(e):\n",
    "        e=0\n",
    "    df.at[index,'director_avg_gross']=c\n",
    "    df.at[index,'director_avg_score']=d\n",
    "    df.at[index,'director_movies']=e"
   ]
  },
  {
   "cell_type": "code",
   "execution_count": 6,
   "metadata": {},
   "outputs": [],
   "source": [
    "import pandas as pd\n",
    "import numpy as np\n",
    "import math\n",
    "\n",
    "df['actor_average_score']=0.0\n",
    "for index,row in df.iterrows():\n",
    "    actor1=row['actor_1_name']\n",
    "    time=row['title_year']\n",
    "    a=df['actor_1_name']==actor1\n",
    "    b=df['actor_2_name']==actor1\n",
    "    c=df['actor_3_name']==actor1\n",
    "    d=df['title_year']<time\n",
    "    x=df[a & d]['imdb_score'].aggregate(np.mean)\n",
    "    y=df[b & d]['imdb_score'].aggregate(np.mean)\n",
    "    z=df[c & d]['imdb_score'].aggregate(np.mean)\n",
    "    if math.isnan(x):\n",
    "        x=0\n",
    "    if math.isnan(y):\n",
    "        y=0\n",
    "    if math.isnan(z):\n",
    "        z=0\n",
    "    e=(x+y+z)/3\n",
    "    if math.isnan(e):\n",
    "        e=0\n",
    "    actor2=row['actor_2_name']\n",
    "    a=df['actor_1_name']==actor2\n",
    "    b=df['actor_2_name']==actor2\n",
    "    c=df['actor_3_name']==actor2\n",
    "    x=df[a & d]['imdb_score'].aggregate(np.mean)\n",
    "    y=df[b & d]['imdb_score'].aggregate(np.mean)\n",
    "    z=df[c & d]['imdb_score'].aggregate(np.mean)\n",
    "    if math.isnan(x):\n",
    "        x=0\n",
    "    if math.isnan(y):\n",
    "        y=0\n",
    "    if math.isnan(z):\n",
    "        z=0\n",
    "    f=(x+y+z)/3\n",
    "    if math.isnan(f):\n",
    "        f=0\n",
    "    actor3=row['actor_3_name']\n",
    "    a=df['actor_1_name']==actor3\n",
    "    b=df['actor_2_name']==actor3\n",
    "    c=df['actor_3_name']==actor3\n",
    "    x=df[a & d]['imdb_score'].aggregate(np.mean)\n",
    "    y=df[b & d]['imdb_score'].aggregate(np.mean)\n",
    "    z=df[c & d]['imdb_score'].aggregate(np.mean)\n",
    "    if math.isnan(x):\n",
    "        x=0\n",
    "    if math.isnan(y):\n",
    "        y=0\n",
    "    if math.isnan(z):\n",
    "        z=0\n",
    "    g=(x+y+z)/3\n",
    "    if math.isnan(g):\n",
    "        g=0\n",
    "    h=(e+f+g)/3\n",
    "    \n",
    "    if math.isnan(h):\n",
    "        h=0\n",
    "    df.at[index,'actor_average_score']=h"
   ]
  },
  {
   "cell_type": "code",
   "execution_count": 7,
   "metadata": {},
   "outputs": [],
   "source": [
    "df['actor_average_gross']=0.0\n",
    "for index,row in df.iterrows():\n",
    "    actor1=row['actor_1_name']\n",
    "    time=row['title_year']\n",
    "    a=df['actor_1_name']==actor1\n",
    "    b=df['actor_2_name']==actor1\n",
    "    c=df['actor_3_name']==actor1\n",
    "    d=df['title_year']<time\n",
    "    x=df[a & d]['gross'].aggregate(np.mean)\n",
    "    y=df[b & d]['gross'].aggregate(np.mean)\n",
    "    z=df[c & d]['gross'].aggregate(np.mean)\n",
    "    if math.isnan(x):\n",
    "        x=0\n",
    "    if math.isnan(y):\n",
    "        y=0\n",
    "    if math.isnan(z):\n",
    "        z=0\n",
    "    e=(x+y+z)/3\n",
    "    if math.isnan(e):\n",
    "        e=0\n",
    "    actor2=row['actor_2_name']\n",
    "    a=df['actor_1_name']==actor2\n",
    "    b=df['actor_2_name']==actor2\n",
    "    c=df['actor_3_name']==actor2\n",
    "    x=df[a & d]['gross'].aggregate(np.mean)\n",
    "    y=df[b & d]['gross'].aggregate(np.mean)\n",
    "    z=df[c & d]['gross'].aggregate(np.mean)\n",
    "    if math.isnan(x):\n",
    "        x=0\n",
    "    if math.isnan(y):\n",
    "        y=0\n",
    "    if math.isnan(z):\n",
    "        z=0\n",
    "    f=(x+y+z)/3\n",
    "    if math.isnan(f):\n",
    "        f=0\n",
    "    actor3=row['actor_3_name']\n",
    "    a=df['actor_1_name']==actor3\n",
    "    b=df['actor_2_name']==actor3\n",
    "    c=df['actor_3_name']==actor3\n",
    "    x=df[a & d]['gross'].aggregate(np.mean)\n",
    "    y=df[b & d]['gross'].aggregate(np.mean)\n",
    "    z=df[c & d]['gross'].aggregate(np.mean)\n",
    "    if math.isnan(x):\n",
    "        x=0\n",
    "    if math.isnan(y):\n",
    "        y=0\n",
    "    if math.isnan(z):\n",
    "        z=0\n",
    "    g=(x+y+z)/3\n",
    "    if math.isnan(g):\n",
    "        g=0\n",
    "    h=(e+f+g)/3\n",
    "    \n",
    "    if math.isnan(h):\n",
    "        h=0\n",
    "    df.at[index,'actor_average_gross']=h\n"
   ]
  },
  {
   "cell_type": "code",
   "execution_count": 8,
   "metadata": {},
   "outputs": [],
   "source": [
    "df['actor_movies']=0\n",
    "for index,row in df.iterrows():\n",
    "    actor1=row['actor_1_name']\n",
    "    time=row['title_year']\n",
    "    a=df['actor_1_name']==actor1\n",
    "    b=df['actor_2_name']==actor1\n",
    "    c=df['actor_3_name']==actor1\n",
    "    d=df['title_year']<time\n",
    "    x=df[a & d].shape[0]\n",
    "    y=df[b & d].shape[0]\n",
    "    z=df[c & d].shape[0]\n",
    "    if math.isnan(x):\n",
    "        x=0\n",
    "    if math.isnan(y):\n",
    "        y=0\n",
    "    if math.isnan(z):\n",
    "        z=0    \n",
    "    e=x+y+z\n",
    "    if math.isnan(e):\n",
    "        e=0\n",
    "    actor2=row['actor_2_name']\n",
    "    a=df['actor_1_name']==actor2\n",
    "    b=df['actor_2_name']==actor2\n",
    "    c=df['actor_3_name']==actor2\n",
    "    x=df[a & d].shape[0]\n",
    "    y=df[b & d].shape[0]\n",
    "    z=df[c & d].shape[0]\n",
    "    if math.isnan(x):\n",
    "        x=0\n",
    "    if math.isnan(y):\n",
    "        y=0\n",
    "    if math.isnan(z):\n",
    "        z=0    \n",
    "    f=x+y+z    \n",
    "    if math.isnan(f):\n",
    "        f=0\n",
    "    actor3=row['actor_3_name']\n",
    "    a=df['actor_1_name']==actor3\n",
    "    b=df['actor_2_name']==actor3\n",
    "    c=df['actor_3_name']==actor3\n",
    "    x=df[a & d].shape[0]\n",
    "    y=df[b & d].shape[0]\n",
    "    z=df[c & d].shape[0]\n",
    "    if math.isnan(x):\n",
    "        x=0\n",
    "    if math.isnan(y):\n",
    "        y=0\n",
    "    if math.isnan(z):\n",
    "        z=0    \n",
    "    g=x+y+z    \n",
    "    if math.isnan(g):\n",
    "        g=0\n",
    "    h=(e+f+g)\n",
    "    \n",
    "    if math.isnan(h):\n",
    "        h=0\n",
    "    df.at[index,'actor_movies']=h"
   ]
  },
  {
   "cell_type": "code",
   "execution_count": null,
   "metadata": {},
   "outputs": [],
   "source": [
    "df=pd.read_csv('Stage2Final.csv',index_col=0)"
   ]
  },
  {
   "cell_type": "code",
   "execution_count": null,
   "metadata": {},
   "outputs": [],
   "source": [
    "df.isna().sum()"
   ]
  },
  {
   "cell_type": "code",
   "execution_count": null,
   "metadata": {},
   "outputs": [],
   "source": [
    "df['gross_class']=1\n",
    "for index,row in df.iterrows():\n",
    "    gross=row['gross']\n",
    "    gross_class=1\n",
    "    if gross>=1000000.0 and gross<10000000.0:\n",
    "            gross_class=2\n",
    "    if gross>=10000000.0 and gross<20000000.0:\n",
    "            gross_class=3\n",
    "    if gross>=20000000.0 and gross<40000000.0:\n",
    "            gross_class=4\n",
    "    if gross>=40000000.0 and gross<65000000.0:\n",
    "            gross_class=5\n",
    "    if gross>=65000000.0 and gross<100000000.0:\n",
    "            gross_class=6\n",
    "    if gross>=100000000.0 and gross<150000000.0:\n",
    "            gross_class=7\n",
    "    if gross>=150000000.0 and gross<200000000.0:\n",
    "            gross_class=8\n",
    "    if gross>=200000000.0:\n",
    "            gross_class=9\n",
    "    df.at[index,'gross_class']=gross_class"
   ]
  },
  {
   "cell_type": "code",
   "execution_count": null,
   "metadata": {},
   "outputs": [],
   "source": [
    "del df['country']\n",
    "del df['director_name']\n",
    "del df['movie_title']\n",
    "del df['actor_1_name']\n",
    "del df['actor_2_name']\n",
    "del df['actor_3_name']"
   ]
  },
  {
   "cell_type": "code",
   "execution_count": null,
   "metadata": {},
   "outputs": [],
   "source": [
    "df.to_csv('WithGrossFinal.csv')"
   ]
  },
  {
   "cell_type": "code",
   "execution_count": null,
   "metadata": {},
   "outputs": [],
   "source": [
    "del df['gross']"
   ]
  },
  {
   "cell_type": "code",
   "execution_count": null,
   "metadata": {},
   "outputs": [],
   "source": [
    "df.to_csv('WithoutGrossFinal.csv')"
   ]
  },
  {
   "cell_type": "code",
   "execution_count": 10,
   "metadata": {},
   "outputs": [],
   "source": [
    "import pandas as pd"
   ]
  },
  {
   "cell_type": "code",
   "execution_count": 11,
   "metadata": {},
   "outputs": [],
   "source": [
    "df=pd.read_csv('WithoutGrossFinal.csv',index_col=0)"
   ]
  },
  {
   "cell_type": "code",
   "execution_count": 12,
   "metadata": {},
   "outputs": [],
   "source": [
    "fd=pd.read_csv('Stage2Final.csv',index_col=0)"
   ]
  },
  {
   "cell_type": "code",
   "execution_count": 13,
   "metadata": {},
   "outputs": [
    {
     "data": {
      "text/plain": [
       "color                   0\n",
       "duration                0\n",
       "genres                  0\n",
       "facenumber_in_poster    0\n",
       "language                0\n",
       "content_rating          0\n",
       "budget                  0\n",
       "title_year              0\n",
       "imdb_score              0\n",
       "aspect_ratio            0\n",
       "director_avg_gross      0\n",
       "director_avg_score      0\n",
       "director_movies         0\n",
       "actor_average_score     0\n",
       "actor_average_gross     0\n",
       "actor_movies            0\n",
       "gross_class             0\n",
       "dtype: int64"
      ]
     },
     "execution_count": 13,
     "metadata": {},
     "output_type": "execute_result"
    }
   ],
   "source": [
    "df.isna().sum()"
   ]
  },
  {
   "cell_type": "code",
   "execution_count": 14,
   "metadata": {},
   "outputs": [],
   "source": [
    "from __future__ import print_function\n",
    "\n",
    "import matplotlib.pyplot as plt\n",
    "import os\n",
    "import pandas as pd\n",
    "import numpy as np\n",
    "import seaborn as sns\n",
    "from sklearn.feature_extraction.text import CountVectorizer\n",
    "from sklearn import linear_model, pipeline\n",
    "#import category_encoders as ce\n",
    "\n",
    "\n",
    "from sklearn import preprocessing\n",
    "from collections import defaultdict\n",
    "fd=pd.read_csv('WithoutGrossFinal.csv',index_col=0)"
   ]
  },
  {
   "cell_type": "code",
   "execution_count": 15,
   "metadata": {},
   "outputs": [],
   "source": [
    "s=fd['genres']\n",
    "genre_num=pd.DataFrame()\n",
    "k=0\n",
    "for i in s:\n",
    "    l=i.split('|')\n",
    "    \n",
    "    for j in l:\n",
    "        genre_num.at[k,j]=1\n",
    "    k=k+1"
   ]
  },
  {
   "cell_type": "code",
   "execution_count": 16,
   "metadata": {},
   "outputs": [],
   "source": [
    "genre_num=genre_num.fillna('0')"
   ]
  },
  {
   "cell_type": "code",
   "execution_count": 17,
   "metadata": {},
   "outputs": [],
   "source": [
    "del fd['genres']"
   ]
  },
  {
   "cell_type": "code",
   "execution_count": 18,
   "metadata": {},
   "outputs": [],
   "source": [
    "fd=fd.reset_index(drop=True)"
   ]
  },
  {
   "cell_type": "code",
   "execution_count": 19,
   "metadata": {},
   "outputs": [],
   "source": [
    "x_list_encode=fd.select_dtypes(include=['object']).copy()"
   ]
  },
  {
   "cell_type": "code",
   "execution_count": 20,
   "metadata": {},
   "outputs": [],
   "source": [
    "endcode_data=pd.get_dummies(x_list_encode)"
   ]
  },
  {
   "cell_type": "code",
   "execution_count": 21,
   "metadata": {},
   "outputs": [],
   "source": [
    "fd=fd.join(endcode_data)"
   ]
  },
  {
   "cell_type": "code",
   "execution_count": 22,
   "metadata": {},
   "outputs": [],
   "source": [
    "fd=fd.join(genre_num)"
   ]
  },
  {
   "cell_type": "code",
   "execution_count": 23,
   "metadata": {},
   "outputs": [],
   "source": [
    "del fd['color']\n",
    "del fd['language']\n",
    "del fd['content_rating']"
   ]
  },
  {
   "cell_type": "code",
   "execution_count": 24,
   "metadata": {},
   "outputs": [],
   "source": [
    "y=fd.gross_class\n",
    "X=fd.drop('gross_class',axis=1)"
   ]
  },
  {
   "cell_type": "code",
   "execution_count": 25,
   "metadata": {},
   "outputs": [],
   "source": [
    "from sklearn.model_selection import train_test_split\n",
    "from sklearn import preprocessing\n",
    "from sklearn import tree\n",
    "X_train, X_test, y_train, y_test = train_test_split(X, y,test_size=0.2)"
   ]
  },
  {
   "cell_type": "code",
   "execution_count": 26,
   "metadata": {},
   "outputs": [
    {
     "name": "stderr",
     "output_type": "stream",
     "text": [
      "C:\\Users\\HRITHIK\\Anaconda4\\lib\\site-packages\\sklearn\\model_selection\\_split.py:296: FutureWarning: Setting a random_state has no effect since shuffle is False. This will raise an error in 0.24. You should leave random_state to its default (None), or set shuffle=True.\n",
      "  FutureWarning\n"
     ]
    }
   ],
   "source": [
    "n_folds = 5\n",
    "\n",
    "from sklearn.model_selection import KFold\n",
    "\n",
    "\n",
    "# We set random_state to ensure we get the same splits every time we run this.\n",
    "kf = KFold(n_splits=n_folds, random_state=1)\n",
    "kf = kf.get_n_splits(X_train)"
   ]
  },
  {
   "cell_type": "code",
   "execution_count": 27,
   "metadata": {},
   "outputs": [
    {
     "name": "stdout",
     "output_type": "stream",
     "text": [
      "Training Random Forest...\n",
      "The classifier accuracy score is 0.52\n",
      "The 5-fold cross-validation accuracy score for this classifier is 0.42\n"
     ]
    },
    {
     "data": {
      "image/png": "[encoded data removed]",
      "text/plain": [
       "<Figure size 432x288 with 1 Axes>"
      ]
     },
     "metadata": {
      "needs_background": "light"
     },
     "output_type": "display_data"
    }
   ],
   "source": [
    "print ('Training Random Forest...')\n",
    "from sklearn.ensemble import RandomForestRegressor\n",
    "from sklearn.model_selection import cross_val_score\n",
    "\n",
    "\n",
    "clf_rf = RandomForestRegressor(n_estimators=1000,max_depth=10) \n",
    "clf_rf = clf_rf.fit( X_train, y_train )\n",
    "classifier_score = clf_rf.score(X_test, y_test)\n",
    "print ('The classifier accuracy score is {:.2f}'.format(classifier_score))\n",
    "# Get average of 3-fold cross-validation score \n",
    "score = cross_val_score(clf_rf, X_test, y_test, cv=kf)\n",
    "print ('The {}-fold cross-validation accuracy score for this classifier is {:.2f}'.format(n_folds, score.mean()))\n",
    "\n",
    "x_1=X_test['budget']\n",
    "\n",
    "y_1 = clf_rf.predict(X_test)\n",
    "\n",
    "plt.figure()\n",
    "plt.scatter(x_1, y_test, c=\"darkorange\", label=\"data\")\n",
    "plt.scatter(x_1, y_1, color=\"cornflowerblue\", label=\"max_depth=5\")\n",
    "plt.xlabel(\"data\")\n",
    "plt.ylabel(\"target\")\n",
    "plt.title(\"Random Forest Regression\")\n",
    "plt.legend()\n",
    "plt.show()"
   ]
  },
  {
   "cell_type": "code",
   "execution_count": null,
   "metadata": {},
   "outputs": [],
   "source": []
  }
 ],
 "metadata": {
  "kernelspec": {
   "display_name": "Python 3",
   "language": "python",
   "name": "python3"
  },
  "language_info": {
   "codemirror_mode": {
    "name": "ipython",
    "version": 3
   },
   "file_extension": ".py",
   "mimetype": "text/x-python",
   "name": "python",
   "nbconvert_exporter": "python",
   "pygments_lexer": "ipython3",
   "version": "3.7.6"
  }
 },
 "nbformat": 4,
 "nbformat_minor": 4
}
